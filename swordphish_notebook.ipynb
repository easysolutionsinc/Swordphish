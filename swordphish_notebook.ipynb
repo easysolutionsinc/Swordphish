{
 "cells": [
  {
   "cell_type": "markdown",
   "metadata": {},
   "source": [
    "# Swordphish Testing\n",
    "\n",
    "Python notebook that shows users how Swordphish features can be used and how does the api testing tool works.\n",
    "\n",
    "\n",
    "**Requirements:**\n",
    "\n",
    "* Python 3.5+\n",
    "* tldextract\n",
    "* Pandas (version)\n",
    "* requests\n",
    "* json\n",
    "* re\n",
    "* sys\n",
    "* os.listdir\n",
    "* pandas\n",
    "* colorama\n",
    "* numpy\n"
   ]
  },
  {
   "cell_type": "code",
   "execution_count": null,
   "metadata": {
    "collapsed": false
   },
   "outputs": [],
   "source": [
    "import pandas as pd\n",
    "import numpy as np\n",
    "import math\n",
    "from extract_urls import *\n",
    "from swordphish_api import *\n",
    "\n",
    "SWORDPHISH_API = 'https://api.easysol.io/swordphish/'\n",
    "SWORDPHISH_APIKEY = '' # Please specify your API KEY\n",
    "SAMPLE_DIRECTORY = 'sample/'"
   ]
  },
  {
   "cell_type": "markdown",
   "metadata": {},
   "source": [
    "### This are all the different options user has to extraxt the urls"
   ]
  },
  {
   "cell_type": "code",
   "execution_count": null,
   "metadata": {
    "collapsed": false
   },
   "outputs": [],
   "source": [
    "# 1. Default extractraction of csv file\n",
    "# This option reads the file and extracts the first column that contains urls\n",
    "url_array = extract_urls_default(SAMPLE_DIRECTORY)\n",
    "\n",
    "# 2. Override the default and choose column\n",
    "# In this option the user chooses the column to be extracted\n",
    "url_array = extract_urls_override(SAMPLE_DIRECTORY, 1)\n",
    "\n",
    "# 3. Users can extract the csv file themseleves \n",
    "# Manually extract the urls\n",
    "file_content = pd.read_csv(SAMPLE_DIRECTORY + 'combined.csv')\n",
    "file_content.columns = ['url','classification']\n",
    "file_content.sample(10, random_state=42)"
   ]
  },
  {
   "cell_type": "markdown",
   "metadata": {},
   "source": [
    "### Swordphish can process only 1000 urls at a time. If the length of the array of urls is larger than that then, we need to pass the information by batches of 1000"
   ]
  },
  {
   "cell_type": "code",
   "execution_count": null,
   "metadata": {
    "collapsed": false
   },
   "outputs": [],
   "source": [
    "final_array = []\n",
    "length = file_content.shape[0]\n",
    "print(\"Number of urls being test: \" + str(length))\n",
    "url_array = file_content[['url']]\n",
    "index = np.array_split(np.arange(0,length), math.ceil(length / 1000))\n",
    "for index_ in index:\n",
    "    final_array.append(url_array.iloc[index_].values.T.tolist()[0])"
   ]
  },
  {
   "cell_type": "markdown",
   "metadata": {},
   "source": [
    "### Now we call Swordphish once per batch and we count the time it takes to run all the queries"
   ]
  },
  {
   "cell_type": "code",
   "execution_count": null,
   "metadata": {
    "collapsed": false
   },
   "outputs": [],
   "source": [
    "start_time = time.time()  # starts counting time\n",
    "final_results = []\n",
    "for batch in final_array:\n",
    "    params = {\n",
    "      \"urlArray\": batch,\n",
    "      \"force_clf\": False\n",
    "    }\n",
    "    results = call_swordphish(SWORDPHISH_APIKEY, params)  # calls Swordphish\n",
    "    final_results += results\n",
    "sphish_time = round((time.time() - start_time)*1000,2)  # ends the counter\n",
    "avg_query_time = round(sphish_time / length, 2)  # calculates average time per query\n",
    "\n",
    "print(\"** SWORDPHISH PROCESS TIMING ** \")\n",
    "print(\"-- Total time elapsed:     \" + str(sphish_time) + \"ms\")\n",
    "print(\"-- Average time per query: \" + str(avg_query_time) + \"ms\")"
   ]
  },
  {
   "cell_type": "markdown",
   "metadata": {},
   "source": [
    "## Now we can see the results for each of the different calculations:\n",
    "### 1. Phishing"
   ]
  },
  {
   "cell_type": "code",
   "execution_count": null,
   "metadata": {
    "collapsed": false
   },
   "outputs": [],
   "source": [
    "phishing_stats = calculate_stats(\"PHISHING\", 2, final_results)\n",
    "print(phishing_stats)"
   ]
  },
  {
   "cell_type": "markdown",
   "metadata": {},
   "source": [
    "### 2. DGA"
   ]
  },
  {
   "cell_type": "code",
   "execution_count": null,
   "metadata": {
    "collapsed": false
   },
   "outputs": [],
   "source": [
    "dga_stats = calculate_stats(\"DGA\", 3, final_results)\n",
    "print(dga_stats)"
   ]
  },
  {
   "cell_type": "markdown",
   "metadata": {},
   "source": [
    "### 3. Malware "
   ]
  },
  {
   "cell_type": "code",
   "execution_count": null,
   "metadata": {
    "collapsed": false
   },
   "outputs": [],
   "source": [
    "malware_stats = calculate_stats(\"MALWARE\", 4, final_results)\n",
    "print(malware_stats)"
   ]
  },
  {
   "cell_type": "markdown",
   "metadata": {},
   "source": [
    "### Results comparison:"
   ]
  },
  {
   "cell_type": "code",
   "execution_count": null,
   "metadata": {
    "collapsed": false
   },
   "outputs": [],
   "source": [
    "test_labels = file_content[['classification']].values.T.tolist()[0]\n",
    "final_results = classify(final_results)\n",
    "final_results = pd.DataFrame(final_results)\n",
    "final_results.columns = ['URL', 'Rank', 'Phishing Score', 'DGA Score', 'Malware Score', 'Classification']\n",
    "class_labels = final_results[['Classification']].values.T.tolist()[0]"
   ]
  },
  {
   "cell_type": "code",
   "execution_count": null,
   "metadata": {
    "collapsed": false
   },
   "outputs": [],
   "source": [
    "tp, fp, tn, fn = 0,0,0,0\n",
    "for i in range(len(test_labels)):\n",
    "    if(test_labels[i] == 0 and class_labels[i] == 0):\n",
    "        tn += 1\n",
    "    elif(test_labels[i] == 1 and class_labels[i] == 0):\n",
    "        fn += 1\n",
    "    elif(test_labels[i] == 1 and class_labels[i] == 1):\n",
    "        tp += 1\n",
    "    else:\n",
    "        fp += 1"
   ]
  },
  {
   "cell_type": "code",
   "execution_count": null,
   "metadata": {
    "collapsed": false
   },
   "outputs": [],
   "source": [
    "tp_percentage = round(tp/length*100,2)\n",
    "fp_percentage = round(fp/length*100,2)\n",
    "tn_percentage = round(tn/length*100,2)\n",
    "fn_percentage = round(fn/length*100,2)"
   ]
  },
  {
   "cell_type": "code",
   "execution_count": null,
   "metadata": {
    "collapsed": false
   },
   "outputs": [],
   "source": [
    "print(str(tp_percentage) + '% of the classification were True Positives')\n",
    "print(str(fp_percentage) + '% of the classification were False Positives')\n",
    "print(str(tn_percentage) + '% of the classification were True Negatives')\n",
    "print(str(fn_percentage) + '% of the classification were False Negatives')"
   ]
  },
  {
   "cell_type": "code",
   "execution_count": null,
   "metadata": {
    "collapsed": false
   },
   "outputs": [],
   "source": [
    "correct = round((tp+tn)/len(test_labels)*100, 2)\n",
    "wrong = round((fp+fn)/len(test_labels)*100, 2)\n",
    "print(str(correct) + '% of the classification were correct')\n",
    "print(str(wrong) + '% of the classification were wrong')"
   ]
  },
  {
   "cell_type": "markdown",
   "metadata": {},
   "source": [
    "#### Finally we can create a csv file that contains all the results"
   ]
  },
  {
   "cell_type": "code",
   "execution_count": null,
   "metadata": {
    "collapsed": true
   },
   "outputs": [],
   "source": [
    "create_csv(final_results.values.tolist(), 'sample')"
   ]
  },
  {
   "cell_type": "code",
   "execution_count": null,
   "metadata": {
    "collapsed": false
   },
   "outputs": [],
   "source": [
    "results_csv = pd.read_csv('swordphish_sample_results.csv', index_col=0, header=None, names=['url','rank', 'phishing', 'dga', 'malware', 'classification'])\n",
    "results_csv.iloc[:5]"
   ]
  },
  {
   "cell_type": "markdown",
   "metadata": {},
   "source": [
    "### We can select what results we want to see, such as phishing results:"
   ]
  },
  {
   "cell_type": "code",
   "execution_count": null,
   "metadata": {
    "collapsed": false
   },
   "outputs": [],
   "source": [
    "phish_res = results_csv[['url','phishing']]\n",
    "phish_res.sample(10, random_state=42)"
   ]
  },
  {
   "cell_type": "markdown",
   "metadata": {},
   "source": [
    "#### This whole process can be done as well by extracting the domains from the urls"
   ]
  },
  {
   "cell_type": "code",
   "execution_count": null,
   "metadata": {
    "collapsed": false
   },
   "outputs": [],
   "source": [
    "url_array = pd.read_csv(SAMPLE_DIRECTORY + 'combined.csv', usecols=[0]).values.T.tolist()[0]\n",
    "domain_array = extract_domains(url_array)\n",
    "domain_array = pd.DataFrame(domain_array)\n",
    "domain_array.columns = ['domain']\n",
    "domain_array.sample(10, random_state=42)"
   ]
  },
  {
   "cell_type": "markdown",
   "metadata": {},
   "source": [
    "#### Now we can run the whole process again, but using the domains"
   ]
  },
  {
   "cell_type": "code",
   "execution_count": null,
   "metadata": {
    "collapsed": false
   },
   "outputs": [],
   "source": [
    "final_array = []\n",
    "length = file_content.shape[0]\n",
    "index = np.split(np.arange(0,length), math.ceil(length / 1000))\n",
    "for index_ in index:\n",
    "    final_array.append(file_content.iloc[index_].values.T.tolist()[0])\n",
    "    "
   ]
  },
  {
   "cell_type": "code",
   "execution_count": null,
   "metadata": {
    "collapsed": false
   },
   "outputs": [],
   "source": [
    "start_time = time.time()  # starts counting time\n",
    "final_results = []\n",
    "for batch in final_array:\n",
    "    params = {\n",
    "      \"urlArray\": batch,\n",
    "      \"force_clf\": True\n",
    "    }\n",
    "    results = call_swordphish(SWORDPHISH_APIKEY, params)  # calls Swordphish\n",
    "    final_results += results\n",
    "sphish_time = round((time.time() - start_time) * 1000, 2)  # ends the counter\n",
    "avg_query_time = round(sphish_time / length, 2)  # calculates average time per query\n",
    "print(\"** SWORDPHISH PROCESS TIMING ** \")\n",
    "print(\"-- Total time elapsed:     \" + str(sphish_time) + \"ms\")\n",
    "print(\"-- Average time per query: \" + str(avg_query_time) + \"ms\")"
   ]
  },
  {
   "cell_type": "code",
   "execution_count": null,
   "metadata": {
    "collapsed": false
   },
   "outputs": [],
   "source": [
    "phishing_stats = calculate_stats(\"PHISHING\", 2, final_results)\n",
    "print(phishing_stats)\n",
    "dga_stats = calculate_stats(\"DGA\", 3, final_results)\n",
    "print(dga_stats)\n",
    "malware_stats = calculate_stats(\"MALWARE\", 4, final_results)\n",
    "print(malware_stats)"
   ]
  }
 ],
 "metadata": {
  "celltoolbar": "Raw Cell Format",
  "kernelspec": {
   "display_name": "Python 3",
   "language": "python",
   "name": "python3"
  },
  "language_info": {
   "codemirror_mode": {
    "name": "ipython",
    "version": 3
   },
   "file_extension": ".py",
   "mimetype": "text/x-python",
   "name": "python",
   "nbconvert_exporter": "python",
   "pygments_lexer": "ipython3",
   "version": "3.5.1"
  }
 },
 "nbformat": 4,
 "nbformat_minor": 0
}

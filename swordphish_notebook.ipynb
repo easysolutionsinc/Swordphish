{
 "cells": [
  {
   "cell_type": "markdown",
   "metadata": {},
   "source": [
    "# Swordphish Testing\n",
    "\n",
    "Python notebook that shows users how Swordphish features can be used and how does the api testing tool works.\n",
    "\n",
    "\n",
    "**Requirements:**\n",
    "\n",
    "* Python 3.5+\n",
    "* tldextract\n",
    "* Pandas (version)\n",
    "* requests\n",
    "* json\n",
    "* re\n",
    "* sys\n",
    "* os.listdir\n",
    "* pandas\n",
    "* colorama\n",
    "* numpy\n"
   ]
  },
  {
   "cell_type": "code",
   "execution_count": 1,
   "metadata": {
    "collapsed": false
   },
   "outputs": [],
   "source": [
    "import pandas as pd\n",
    "import numpy as np\n",
    "import math\n",
    "from extract_urls import *\n",
    "from swordphish_api import *\n",
    "\n",
    "SWORDPHISH_API = 'https://api.easysol.io/swordphish/'\n",
    "SWORDPHISH_APIKEY = '' # Please specify your API KEY\n",
    "SAMPLE_DIRECTORY = 'sample/'"
   ]
  },
  {
   "cell_type": "markdown",
   "metadata": {},
   "source": [
    "### This are all the different options user has to extraxt the urls"
   ]
  },
  {
   "cell_type": "code",
   "execution_count": 2,
   "metadata": {
    "collapsed": false
   },
   "outputs": [
    {
     "data": {
      "text/html": [
       "<div>\n",
       "<table border=\"1\" class=\"dataframe\">\n",
       "  <thead>\n",
       "    <tr style=\"text-align: right;\">\n",
       "      <th></th>\n",
       "      <th>url</th>\n",
       "      <th>classification</th>\n",
       "    </tr>\n",
       "  </thead>\n",
       "  <tbody>\n",
       "    <tr>\n",
       "      <th>1860</th>\n",
       "      <td>http://of8fbkm65.biennale.info/</td>\n",
       "      <td>1</td>\n",
       "    </tr>\n",
       "    <tr>\n",
       "      <th>353</th>\n",
       "      <td>http://www.conservapedia.com/index.php?title=S...</td>\n",
       "      <td>0</td>\n",
       "    </tr>\n",
       "    <tr>\n",
       "      <th>1333</th>\n",
       "      <td>http://fouadstationary.com/sparkasse/sparkasse...</td>\n",
       "      <td>1</td>\n",
       "    </tr>\n",
       "    <tr>\n",
       "      <th>905</th>\n",
       "      <td>http://www.sunadvocate.com/index.php?tier=1&amp;ar...</td>\n",
       "      <td>0</td>\n",
       "    </tr>\n",
       "    <tr>\n",
       "      <th>1289</th>\n",
       "      <td>http://www.aokpage.com/%7Exinhvl/loginphpsited...</td>\n",
       "      <td>1</td>\n",
       "    </tr>\n",
       "    <tr>\n",
       "      <th>1273</th>\n",
       "      <td>http://www.turnoverball.com/pp/reception@brown...</td>\n",
       "      <td>1</td>\n",
       "    </tr>\n",
       "    <tr>\n",
       "      <th>938</th>\n",
       "      <td>https://www.gfg.com/cgibin/shopping.cgi?card=3...</td>\n",
       "      <td>0</td>\n",
       "    </tr>\n",
       "    <tr>\n",
       "      <th>1731</th>\n",
       "      <td>http://nqq2129uff4106.ks600.de/weber/</td>\n",
       "      <td>1</td>\n",
       "    </tr>\n",
       "    <tr>\n",
       "      <th>65</th>\n",
       "      <td>http://www.sporcle.com/games/sunshine423/picactr</td>\n",
       "      <td>0</td>\n",
       "    </tr>\n",
       "    <tr>\n",
       "      <th>1323</th>\n",
       "      <td>http://www.pp-ermittlung-deutsch.net/konflikt/...</td>\n",
       "      <td>1</td>\n",
       "    </tr>\n",
       "  </tbody>\n",
       "</table>\n",
       "</div>"
      ],
      "text/plain": [
       "                                                    url  classification\n",
       "1860                    http://of8fbkm65.biennale.info/               1\n",
       "353   http://www.conservapedia.com/index.php?title=S...               0\n",
       "1333  http://fouadstationary.com/sparkasse/sparkasse...               1\n",
       "905   http://www.sunadvocate.com/index.php?tier=1&ar...               0\n",
       "1289  http://www.aokpage.com/%7Exinhvl/loginphpsited...               1\n",
       "1273  http://www.turnoverball.com/pp/reception@brown...               1\n",
       "938   https://www.gfg.com/cgibin/shopping.cgi?card=3...               0\n",
       "1731              http://nqq2129uff4106.ks600.de/weber/               1\n",
       "65     http://www.sporcle.com/games/sunshine423/picactr               0\n",
       "1323  http://www.pp-ermittlung-deutsch.net/konflikt/...               1"
      ]
     },
     "execution_count": 2,
     "metadata": {},
     "output_type": "execute_result"
    }
   ],
   "source": [
    "# 1. Default extractraction of csv file\n",
    "# This option reads the file and extracts the first column that contains urls\n",
    "url_array = extract_urls_default(SAMPLE_DIRECTORY)\n",
    "\n",
    "# 2. Override the default and choose column\n",
    "# In this option the user chooses the column to be extracted\n",
    "url_array = extract_urls_override(SAMPLE_DIRECTORY, 1)\n",
    "\n",
    "# 3. Users can extract the csv file themseleves \n",
    "# Manually extract the urls\n",
    "file_content = pd.read_csv(SAMPLE_DIRECTORY + 'combined.csv').values.tolist()\n",
    "file_content = pd.DataFrame(file_content)\n",
    "file_content.columns = ['url','classification']\n",
    "file_content.sample(10, random_state=42)\n",
    "# file_content = pd.read_csv(SAMPLE_DIRECTORY + 'test.csv', usecols=[1])\n",
    "# file_content.columns = ['url']\n",
    "# file_content.sample(10, random_state=42)"
   ]
  },
  {
   "cell_type": "markdown",
   "metadata": {},
   "source": [
    "### Swordphish can process only 1000 urls at a time. If the length of the array of urls is larger than that then, we need to pass the information by batches of 1000"
   ]
  },
  {
   "cell_type": "code",
   "execution_count": 3,
   "metadata": {
    "collapsed": false
   },
   "outputs": [
    {
     "name": "stdout",
     "output_type": "stream",
     "text": [
      "Number of urls being test: 2000\n"
     ]
    }
   ],
   "source": [
    "final_array = []\n",
    "length = file_content.shape[0]\n",
    "print(\"Number of urls being test: \" + str(length))\n",
    "url_array = file_content[['url']]\n",
    "index = np.array_split(np.arange(0,length), math.ceil(length / 1000))\n",
    "for index_ in index:\n",
    "    final_array.append(url_array.iloc[index_].values.T.tolist()[0])"
   ]
  },
  {
   "cell_type": "markdown",
   "metadata": {},
   "source": [
    "### Now we call Swordphish with per batch and we count the time it takes to run all the queries"
   ]
  },
  {
   "cell_type": "code",
   "execution_count": 4,
   "metadata": {
    "collapsed": false
   },
   "outputs": [
    {
     "name": "stdout",
     "output_type": "stream",
     "text": [
      "** SWORDPHISH PROCESS TIMING ** \n",
      "-- Total time elapsed:     26572.03ms\n",
      "-- Average time per query: 13.29ms\n"
     ]
    }
   ],
   "source": [
    "start_time = time.time()  # starts counting time\n",
    "final_results = []\n",
    "for batch in final_array:\n",
    "    params = {\n",
    "      \"urlArray\": batch,\n",
    "      \"force_clf\": False\n",
    "    }\n",
    "    results = call_swordphish(SWORDPHISH_APIKEY, params)  # calls Swordphish\n",
    "    final_results += results\n",
    "sphish_time = round((time.time() - start_time)*1000,2)  # ends the counter\n",
    "avg_query_time = round(sphish_time / length, 2)  # calculates average time per query\n",
    "\n",
    "print(\"** SWORDPHISH PROCESS TIMING ** \")\n",
    "print(\"-- Total time elapsed:     \" + str(sphish_time) + \"ms\")\n",
    "print(\"-- Average time per query: \" + str(avg_query_time) + \"ms\")"
   ]
  },
  {
   "cell_type": "markdown",
   "metadata": {},
   "source": [
    "## Now we can see the results for each of the different calculations:\n",
    "### 1. Phishing"
   ]
  },
  {
   "cell_type": "code",
   "execution_count": 5,
   "metadata": {
    "collapsed": false
   },
   "outputs": [
    {
     "name": "stdout",
     "output_type": "stream",
     "text": [
      "\u001b[37m** PHISHING STATS  **\n",
      "\u001b[31m50.65% of the links have been categorized as PHISHING.\n",
      "\u001b[33m2.05% of the links have not been marked completely safe.\n",
      "\u001b[32m47.3% of the links are safe.\n",
      "\n"
     ]
    }
   ],
   "source": [
    "phishing_stats = calculate_stats(\"PHISHING\", 2, final_results)\n",
    "print(phishing_stats)"
   ]
  },
  {
   "cell_type": "markdown",
   "metadata": {},
   "source": [
    "### 2. DGA"
   ]
  },
  {
   "cell_type": "code",
   "execution_count": 6,
   "metadata": {
    "collapsed": false
   },
   "outputs": [
    {
     "name": "stdout",
     "output_type": "stream",
     "text": [
      "\u001b[37m** DGA STATS  **\n",
      "\u001b[31m2.0% of the links have been categorized as DGA.\n",
      "\u001b[33m2.05% of the links have not been marked completely safe.\n",
      "\u001b[32m95.95% of the links are safe.\n",
      "\n"
     ]
    }
   ],
   "source": [
    "dga_stats = calculate_stats(\"DGA\", 3, final_results)\n",
    "print(dga_stats)"
   ]
  },
  {
   "cell_type": "markdown",
   "metadata": {},
   "source": [
    "### 3. Malware "
   ]
  },
  {
   "cell_type": "code",
   "execution_count": 7,
   "metadata": {
    "collapsed": false
   },
   "outputs": [
    {
     "name": "stdout",
     "output_type": "stream",
     "text": [
      "\u001b[37m** MALWARE STATS  **\n",
      "\u001b[31m28.9% of the links have been categorized as MALWARE.\n",
      "\u001b[33m8.75% of the links have not been marked completely safe.\n",
      "\u001b[32m62.35% of the links are safe.\n",
      "\n"
     ]
    }
   ],
   "source": [
    "malware_stats = calculate_stats(\"MALWARE\", 4, final_results)\n",
    "print(malware_stats)"
   ]
  },
  {
   "cell_type": "markdown",
   "metadata": {},
   "source": [
    "### Results comparison:"
   ]
  },
  {
   "cell_type": "code",
   "execution_count": 8,
   "metadata": {
    "collapsed": false
   },
   "outputs": [],
   "source": [
    "test_labels = file_content[['classification']].values.T.tolist()[0]\n",
    "final_results = classify(final_results)\n",
    "final_results = pd.DataFrame(final_results)\n",
    "final_results.columns = ['URL', 'Rank', 'Phishing Score', 'DGA Score', 'Malware Score', 'classification']\n",
    "class_labels = final_results[['classification']].values.T.tolist()[0]"
   ]
  },
  {
   "cell_type": "code",
   "execution_count": 9,
   "metadata": {
    "collapsed": false
   },
   "outputs": [],
   "source": [
    "tp, fp, tn, fn = 0,0,0,0\n",
    "for i in range(len(test_labels)):\n",
    "    if(test_labels[i] == 0 and class_labels[i] == 0):\n",
    "        tn += 1\n",
    "    elif(test_labels[i] == 1 and class_labels[i] == 0):\n",
    "        fn += 1\n",
    "    elif(test_labels[i] == 1 and class_labels[i] == 1):\n",
    "        tp += 1\n",
    "    else:\n",
    "        fp += 1"
   ]
  },
  {
   "cell_type": "code",
   "execution_count": 10,
   "metadata": {
    "collapsed": false
   },
   "outputs": [],
   "source": [
    "tp_percentage = round(tp/length*100,2)\n",
    "fp_percentage = round(fp/length*100,2)\n",
    "tn_percentage = round(tn/length*100,2)\n",
    "fn_percentage = round(fn/length*100,2)"
   ]
  },
  {
   "cell_type": "code",
   "execution_count": 11,
   "metadata": {
    "collapsed": false
   },
   "outputs": [
    {
     "name": "stdout",
     "output_type": "stream",
     "text": [
      "48.0% of the classification were True Positives\n",
      "2.65% of the classification were False Positives\n",
      "47.35% of the classification were True Negatives\n",
      "2.0% of the classification were False Negatives\n"
     ]
    }
   ],
   "source": [
    "print(str(tp_percentage) + '% of the classification were True Positives')\n",
    "print(str(fp_percentage) + '% of the classification were False Positives')\n",
    "print(str(tn_percentage) + '% of the classification were True Negatives')\n",
    "print(str(fn_percentage) + '% of the classification were False Negatives')"
   ]
  },
  {
   "cell_type": "code",
   "execution_count": 12,
   "metadata": {
    "collapsed": false
   },
   "outputs": [
    {
     "name": "stdout",
     "output_type": "stream",
     "text": [
      "95.35% of the classification were correct\n",
      "4.65% of the classification were wrong\n"
     ]
    }
   ],
   "source": [
    "correct = round((tp+tn)/len(test_labels)*100, 2)\n",
    "wrong = round((fp+fn)/len(test_labels)*100, 2)\n",
    "print(str(correct) + '% of the classification were correct')\n",
    "print(str(wrong) + '% of the classification were wrong')"
   ]
  },
  {
   "cell_type": "code",
   "execution_count": null,
   "metadata": {
    "collapsed": false
   },
   "outputs": [],
   "source": [
    "compared_res = []\n",
    "# file_content = file_content.values.tolist()\n",
    "final_results = pd.DataFrame(final_results)\n",
    "final_results.columns = ['url','rank', 'phishing', 'dga', 'malware', 'classification']\n",
    "get_res = final_results[['url', 'phishing', 'classification']].values.tolist()\n",
    "for i in range(len(final_results)):\n",
    "    tup = tuple(get_res[i]) + (test_labels[i],)\n",
    "    compared_res.append(tup)\n",
    "\n",
    "df_url = pd.DataFrame(compared_res, columns = ['URL', 'score', 'Classification', 'original'])\n",
    "df_url.to_csv('comp_res.csv')"
   ]
  },
  {
   "cell_type": "markdown",
   "metadata": {},
   "source": [
    "#### Finally we can create a csv file that contains all the results"
   ]
  },
  {
   "cell_type": "code",
   "execution_count": null,
   "metadata": {
    "collapsed": true
   },
   "outputs": [],
   "source": [
    "create_csv(final_results, 'sample')"
   ]
  },
  {
   "cell_type": "code",
   "execution_count": null,
   "metadata": {
    "collapsed": false
   },
   "outputs": [],
   "source": [
    "results_csv = pd.read_csv('swordphish_sample_results.csv', index_col=0, header=None, names=['url','rank', 'phishing', 'dga', 'malware'])\n",
    "print(results_csv.iloc[:5])"
   ]
  },
  {
   "cell_type": "markdown",
   "metadata": {},
   "source": [
    "### We can select whats results we cant to see, such as phishing results:"
   ]
  },
  {
   "cell_type": "code",
   "execution_count": null,
   "metadata": {
    "collapsed": false
   },
   "outputs": [],
   "source": [
    "phish_res = results_csv[['url','phishing']]\n",
    "print(phish_res[:10])"
   ]
  },
  {
   "cell_type": "markdown",
   "metadata": {},
   "source": [
    "#### This whole process can be done as well by extracting the domnains from the urls"
   ]
  },
  {
   "cell_type": "code",
   "execution_count": null,
   "metadata": {
    "collapsed": false
   },
   "outputs": [],
   "source": [
    "url_array = pd.read_csv(SAMPLE_DIRECTORY + 'combined.csv', usecols=[0]).values.T.tolist()[0]\n",
    "domain_array = extract_domains(url_array)\n",
    "domain_array = pd.DataFrame(domain_array)\n",
    "domain_array.columns = ['domain']\n",
    "domain_array.sample(10, random_state=42)"
   ]
  },
  {
   "cell_type": "markdown",
   "metadata": {},
   "source": [
    "#### Now the whole process is repeats"
   ]
  },
  {
   "cell_type": "code",
   "execution_count": null,
   "metadata": {
    "collapsed": false
   },
   "outputs": [],
   "source": [
    "final_array = []\n",
    "length = file_content.shape[0]\n",
    "index = np.split(np.arange(0,length), math.ceil(length / 1000))\n",
    "for index_ in index:\n",
    "    final_array.append(file_content.iloc[index_].values.T.tolist()[0])\n",
    "    "
   ]
  },
  {
   "cell_type": "code",
   "execution_count": null,
   "metadata": {
    "collapsed": false
   },
   "outputs": [],
   "source": [
    "start_time = time.time()  # starts counting time\n",
    "final_results = []\n",
    "for batch in final_array:\n",
    "    params = {\n",
    "      \"urlArray\": batch,\n",
    "      \"force_clf\": True\n",
    "    }\n",
    "    results = call_swordphish(SWORDPHISH_APIKEY, params)  # calls Swordphish\n",
    "    final_results += results\n",
    "sphish_time = round((time.time() - start_time) * 1000, 2)  # ends the counter\n",
    "avg_query_time = round(sphish_time / length, 2)  # calculates average time per query\n",
    "print(\"** SWORDPHISH PROCESS TIMING ** \")\n",
    "print(\"-- Total time elapsed:     \" + str(sphish_time) + \"ms\")\n",
    "print(\"-- Average time per query: \" + str(avg_query_time) + \"ms\")"
   ]
  },
  {
   "cell_type": "code",
   "execution_count": null,
   "metadata": {
    "collapsed": false
   },
   "outputs": [],
   "source": [
    "phishing_stats = calculate_stats(\"PHISHING\", 2, final_results)\n",
    "print(phishing_stats)\n",
    "dga_stats = calculate_stats(\"DGA\", 3, final_results)\n",
    "print(dga_stats)\n",
    "malware_stats = calculate_stats(\"MALWARE\", 4, final_results)\n",
    "print(malware_stats)"
   ]
  }
 ],
 "metadata": {
  "celltoolbar": "Raw Cell Format",
  "kernelspec": {
   "display_name": "Python 3",
   "language": "python",
   "name": "python3"
  },
  "language_info": {
   "codemirror_mode": {
    "name": "ipython",
    "version": 3
   },
   "file_extension": ".py",
   "mimetype": "text/x-python",
   "name": "python",
   "nbconvert_exporter": "python",
   "pygments_lexer": "ipython3",
   "version": "3.5.1"
  }
 },
 "nbformat": 4,
 "nbformat_minor": 0
}

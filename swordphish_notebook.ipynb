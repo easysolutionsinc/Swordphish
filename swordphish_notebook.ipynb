{
 "cells": [
  {
   "cell_type": "markdown",
   "metadata": {},
   "source": [
    "# Swordphish Testing\n",
    "\n",
    "Python notebook that shows users how Swordphish features can be used and how does the api testing tool works.\n",
    "\n",
    "\n",
    "**Requirements:**\n",
    "\n",
    "* Python >= 3.5\n",
    "* tldextract >= 2.0.1\n",
    "* pandas >= 0.18.0\n",
    "* numpy >= 1.10.4\n",
    "* sklearn >= 0.17.1\n"
   ]
  },
  {
   "cell_type": "code",
   "execution_count": null,
   "metadata": {
    "collapsed": false
   },
   "outputs": [],
   "source": [
    "import pandas as pd\n",
    "import numpy as np\n",
    "import math\n",
    "import time\n",
    "import extract_urls as urlext\n",
    "import swordphish_api as sp\n",
    "from sklearn import metrics\n",
    "\n",
    "SWORDPHISH_API = 'https://api.easysol.io/swordphish/'\n",
    "SWORDPHISH_APIKEY = 'df05a8fa48a0418286e5a5b075063b28' # Please specify your API KEY\n",
    "SAMPLE_DIRECTORY = 'sample/'"
   ]
  },
  {
   "cell_type": "markdown",
   "metadata": {},
   "source": [
    "### This are all the different options user has to extraxt the urls"
   ]
  },
  {
   "cell_type": "code",
   "execution_count": null,
   "metadata": {
    "collapsed": false
   },
   "outputs": [],
   "source": [
    "# 1. Default extractraction of csv file\n",
    "# This option reads the file and extracts the first column that contains urls\n",
    "url_array = urlext.extract_urls_default(SAMPLE_DIRECTORY)\n",
    "\n",
    "# 2. Override the default and choose column\n",
    "# In this option the user chooses the column to be extracted\n",
    "url_array = urlext.extract_urls_override(SAMPLE_DIRECTORY, 1)\n",
    "\n",
    "# 3. Users can extract the csv file themseleves \n",
    "# Manually extract the urls\n",
    "file_content = pd.read_csv(SAMPLE_DIRECTORY + 'combined.csv')\n",
    "file_content.columns = ['url','classification']\n",
    "file_content.sample(10, random_state=42)"
   ]
  },
  {
   "cell_type": "markdown",
   "metadata": {},
   "source": [
    "### Swordphish can process only 1000 urls at a time. If the length of the array of urls is larger than that then, we need to pass the information by batches of 1000"
   ]
  },
  {
   "cell_type": "code",
   "execution_count": null,
   "metadata": {
    "collapsed": false
   },
   "outputs": [],
   "source": [
    "final_array = []\n",
    "length = file_content.shape[0]\n",
    "print(\"Number of urls being test: \" + str(length))\n",
    "url_array = file_content[['url']]\n",
    "index = np.array_split(np.arange(0,length), math.ceil(length / 1000))\n",
    "for index_ in index:\n",
    "    final_array.append(url_array.iloc[index_].values.T.tolist()[0])"
   ]
  },
  {
   "cell_type": "markdown",
   "metadata": {},
   "source": [
    "### Now we call Swordphish once per batch and we count the time it takes to run all the queries"
   ]
  },
  {
   "cell_type": "code",
   "execution_count": null,
   "metadata": {
    "collapsed": false
   },
   "outputs": [],
   "source": [
    "start_time = time.time()  # starts counting time\n",
    "final_results = []\n",
    "for batch in final_array:\n",
    "    params = {\n",
    "      \"urlArray\": batch,\n",
    "      \"force_clf\": False\n",
    "    }\n",
    "    results = sp.call_swordphish(SWORDPHISH_APIKEY, params)  # calls Swordphish\n",
    "    final_results += results\n",
    "sphish_time = round((time.time() - start_time)*1000,2)  # ends the counter\n",
    "avg_query_time = round(sphish_time / length, 2)  # calculates average time per query\n",
    "\n",
    "print(\"** SWORDPHISH PROCESS TIMING ** \")\n",
    "print(\"-- Total time elapsed:     \" + str(sphish_time) + \"ms\")\n",
    "print(\"-- Average time per query: \" + str(avg_query_time) + \"ms\")"
   ]
  },
  {
   "cell_type": "markdown",
   "metadata": {},
   "source": [
    "## Now we can see the results for each of the different calculations:\n",
    "### 1. Phishing"
   ]
  },
  {
   "cell_type": "code",
   "execution_count": null,
   "metadata": {
    "collapsed": false
   },
   "outputs": [],
   "source": [
    "phishing_stats = sp.calculate_stats(\"PHISHING\", 2, final_results)\n",
    "print(phishing_stats)"
   ]
  },
  {
   "cell_type": "markdown",
   "metadata": {},
   "source": [
    "### 2. DGA"
   ]
  },
  {
   "cell_type": "code",
   "execution_count": null,
   "metadata": {
    "collapsed": false
   },
   "outputs": [],
   "source": [
    "dga_stats = sp.calculate_stats(\"DGA\", 3, final_results)\n",
    "print(dga_stats)"
   ]
  },
  {
   "cell_type": "markdown",
   "metadata": {},
   "source": [
    "### 3. Malware "
   ]
  },
  {
   "cell_type": "code",
   "execution_count": null,
   "metadata": {
    "collapsed": false
   },
   "outputs": [],
   "source": [
    "malware_stats = sp.calculate_stats(\"MALWARE\", 4, final_results)\n",
    "print(malware_stats)"
   ]
  },
  {
   "cell_type": "markdown",
   "metadata": {},
   "source": [
    "### Results comparison:"
   ]
  },
  {
   "cell_type": "code",
   "execution_count": null,
   "metadata": {
    "collapsed": false
   },
   "outputs": [],
   "source": [
    "# Convert phishing score to binary prediction\n",
    "results = pd.DataFrame(sp.classify(final_results), \n",
    "                       columns=['URL', 'Rank', 'Phishing Score', 'DGA Score', \n",
    "                                'Malware Score', 'Phishing Prediction'])\n",
    "# Include the ground truth\n",
    "results['Phishing True Label'] = file_content[['classification']].values.T.tolist()[0]\n",
    "results.sample(10, random_state=42)"
   ]
  },
  {
   "cell_type": "code",
   "execution_count": null,
   "metadata": {
    "collapsed": false
   },
   "outputs": [],
   "source": [
    "res = metrics.confusion_matrix(results['Phishing True Label'],\n",
    "                               results['Phishing Prediction'])\n",
    "pd.DataFrame(res, index=['Actual Ham', 'Actual Phishing'],\n",
    "                  columns=['Predicted Ham', 'Predicted Phishing'])"
   ]
  },
  {
   "cell_type": "code",
   "execution_count": null,
   "metadata": {
    "collapsed": false
   },
   "outputs": [],
   "source": [
    "res_df = pd.DataFrame(columns=['Statistic'])\n",
    "\n",
    "res_df.loc['Accuracy'] = metrics.accuracy_score(results['Phishing True Label'],results['Phishing Prediction'])\n",
    "res_df.loc['Recall'] = metrics.recall_score(results['Phishing True Label'],results['Phishing Prediction'])\n",
    "res_df.loc['Precision'] = metrics.precision_score(results['Phishing True Label'],results['Phishing Prediction'])\n",
    "res_df.loc['F1-Score'] = metrics.f1_score(results['Phishing True Label'],results['Phishing Prediction'])\n",
    "res_df"
   ]
  },
  {
   "cell_type": "markdown",
   "metadata": {},
   "source": [
    "#### Finally we can create a csv file that contains all the results"
   ]
  },
  {
   "cell_type": "code",
   "execution_count": null,
   "metadata": {
    "collapsed": true
   },
   "outputs": [],
   "source": [
    "create_csv(final_results.values.tolist(), 'sample')"
   ]
  },
  {
   "cell_type": "code",
   "execution_count": null,
   "metadata": {
    "collapsed": false
   },
   "outputs": [],
   "source": [
    "results_csv = pd.read_csv('swordphish_sample_results.csv', index_col=0, header=None, names=['url','rank', 'phishing', 'dga', 'malware', 'classification'])\n",
    "results_csv.iloc[:5]"
   ]
  },
  {
   "cell_type": "markdown",
   "metadata": {},
   "source": [
    "### We can select what results we want to see, such as phishing results:"
   ]
  },
  {
   "cell_type": "code",
   "execution_count": null,
   "metadata": {
    "collapsed": false
   },
   "outputs": [],
   "source": [
    "phish_res = results_csv[['url','phishing']]\n",
    "phish_res.sample(10, random_state=42)"
   ]
  },
  {
   "cell_type": "markdown",
   "metadata": {},
   "source": [
    "#### This whole process can be done as well by extracting the domains from the urls"
   ]
  },
  {
   "cell_type": "code",
   "execution_count": null,
   "metadata": {
    "collapsed": false
   },
   "outputs": [],
   "source": [
    "url_array = pd.read_csv(SAMPLE_DIRECTORY + 'combined.csv', usecols=[0]).values.T.tolist()[0]\n",
    "domain_array = extract_domains(url_array)\n",
    "domain_array = pd.DataFrame(domain_array)\n",
    "domain_array.columns = ['domain']\n",
    "domain_array.sample(10, random_state=42)"
   ]
  },
  {
   "cell_type": "markdown",
   "metadata": {},
   "source": [
    "#### Now we can run the whole process again, but using the domains"
   ]
  },
  {
   "cell_type": "code",
   "execution_count": null,
   "metadata": {
    "collapsed": false
   },
   "outputs": [],
   "source": [
    "final_array = []\n",
    "length = file_content.shape[0]\n",
    "index = np.split(np.arange(0,length), math.ceil(length / 1000))\n",
    "for index_ in index:\n",
    "    final_array.append(file_content.iloc[index_].values.T.tolist()[0])\n",
    "    "
   ]
  },
  {
   "cell_type": "code",
   "execution_count": null,
   "metadata": {
    "collapsed": false
   },
   "outputs": [],
   "source": [
    "start_time = time.time()  # starts counting time\n",
    "final_results = []\n",
    "for batch in final_array:\n",
    "    params = {\n",
    "      \"urlArray\": batch,\n",
    "      \"force_clf\": True\n",
    "    }\n",
    "    results = call_swordphish(SWORDPHISH_APIKEY, params)  # calls Swordphish\n",
    "    final_results += results\n",
    "sphish_time = round((time.time() - start_time) * 1000, 2)  # ends the counter\n",
    "avg_query_time = round(sphish_time / length, 2)  # calculates average time per query\n",
    "print(\"** SWORDPHISH PROCESS TIMING ** \")\n",
    "print(\"-- Total time elapsed:     \" + str(sphish_time) + \"ms\")\n",
    "print(\"-- Average time per query: \" + str(avg_query_time) + \"ms\")"
   ]
  },
  {
   "cell_type": "code",
   "execution_count": null,
   "metadata": {
    "collapsed": false
   },
   "outputs": [],
   "source": [
    "phishing_stats = calculate_stats(\"PHISHING\", 2, final_results)\n",
    "print(phishing_stats)\n",
    "dga_stats = calculate_stats(\"DGA\", 3, final_results)\n",
    "print(dga_stats)\n",
    "malware_stats = calculate_stats(\"MALWARE\", 4, final_results)\n",
    "print(malware_stats)"
   ]
  }
 ],
 "metadata": {
  "celltoolbar": "Raw Cell Format",
  "kernelspec": {
   "display_name": "Python 3",
   "language": "python",
   "name": "python3"
  },
  "language_info": {
   "codemirror_mode": {
    "name": "ipython",
    "version": 3
   },
   "file_extension": ".py",
   "mimetype": "text/x-python",
   "name": "python",
   "nbconvert_exporter": "python",
   "pygments_lexer": "ipython3",
   "version": "3.5.1"
  }
 },
 "nbformat": 4,
 "nbformat_minor": 0
}
